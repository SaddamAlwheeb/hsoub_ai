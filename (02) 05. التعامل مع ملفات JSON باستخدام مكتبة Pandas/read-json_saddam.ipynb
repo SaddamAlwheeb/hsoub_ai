{
 "cells": [
  {
   "cell_type": "code",
   "execution_count": 2,
   "id": "02273f2a-83ed-4d2a-bd94-fa08a2ede2d7",
   "metadata": {},
   "outputs": [
    {
     "data": {
      "text/html": [
       "<div>\n",
       "<style scoped>\n",
       "    .dataframe tbody tr th:only-of-type {\n",
       "        vertical-align: middle;\n",
       "    }\n",
       "\n",
       "    .dataframe tbody tr th {\n",
       "        vertical-align: top;\n",
       "    }\n",
       "\n",
       "    .dataframe thead th {\n",
       "        text-align: right;\n",
       "    }\n",
       "</style>\n",
       "<table border=\"1\" class=\"dataframe\">\n",
       "  <thead>\n",
       "    <tr style=\"text-align: right;\">\n",
       "      <th></th>\n",
       "      <th>title</th>\n",
       "      <th>year</th>\n",
       "      <th>cast</th>\n",
       "      <th>genres</th>\n",
       "    </tr>\n",
       "  </thead>\n",
       "  <tbody>\n",
       "    <tr>\n",
       "      <th>0</th>\n",
       "      <td>After Dark in Central Park</td>\n",
       "      <td>1900</td>\n",
       "      <td>[]</td>\n",
       "      <td>[]</td>\n",
       "    </tr>\n",
       "    <tr>\n",
       "      <th>1</th>\n",
       "      <td>Boarding School Girls' Pajama Parade</td>\n",
       "      <td>1900</td>\n",
       "      <td>[]</td>\n",
       "      <td>[]</td>\n",
       "    </tr>\n",
       "    <tr>\n",
       "      <th>2</th>\n",
       "      <td>Buffalo Bill's Wild West Parad</td>\n",
       "      <td>1900</td>\n",
       "      <td>[]</td>\n",
       "      <td>[]</td>\n",
       "    </tr>\n",
       "    <tr>\n",
       "      <th>3</th>\n",
       "      <td>Caught</td>\n",
       "      <td>1900</td>\n",
       "      <td>[]</td>\n",
       "      <td>[]</td>\n",
       "    </tr>\n",
       "    <tr>\n",
       "      <th>4</th>\n",
       "      <td>Clowns Spinning Hats</td>\n",
       "      <td>1900</td>\n",
       "      <td>[]</td>\n",
       "      <td>[]</td>\n",
       "    </tr>\n",
       "    <tr>\n",
       "      <th>...</th>\n",
       "      <td>...</td>\n",
       "      <td>...</td>\n",
       "      <td>...</td>\n",
       "      <td>...</td>\n",
       "    </tr>\n",
       "    <tr>\n",
       "      <th>28790</th>\n",
       "      <td>Bumblebee</td>\n",
       "      <td>2018</td>\n",
       "      <td>[Hailee Steinfeld, John Cena, Jorge Lendeborg ...</td>\n",
       "      <td>[Action, Adventure, Science Fiction]</td>\n",
       "    </tr>\n",
       "    <tr>\n",
       "      <th>28791</th>\n",
       "      <td>Welcome to Marwen</td>\n",
       "      <td>2018</td>\n",
       "      <td>[Steve Carell, Leslie Mann, Diane Kruger, Falk...</td>\n",
       "      <td>[Fantasy, Drama]</td>\n",
       "    </tr>\n",
       "    <tr>\n",
       "      <th>28792</th>\n",
       "      <td>Holmes and Watson</td>\n",
       "      <td>2018</td>\n",
       "      <td>[Will Ferrell, John C. Reilly, Rebecca Hall, R...</td>\n",
       "      <td>[Action, Mystery, Comedy]</td>\n",
       "    </tr>\n",
       "    <tr>\n",
       "      <th>28793</th>\n",
       "      <td>On the Basis of Sex</td>\n",
       "      <td>2018</td>\n",
       "      <td>[Felicity Jones, Armie Hammer, Justin Theroux,...</td>\n",
       "      <td>[Biography, Drama]</td>\n",
       "    </tr>\n",
       "    <tr>\n",
       "      <th>28794</th>\n",
       "      <td>Destroyer</td>\n",
       "      <td>2018</td>\n",
       "      <td>[Nicole Kidman, Tatiana Maslany, Sebastian Sta...</td>\n",
       "      <td>[Crime, Thriller]</td>\n",
       "    </tr>\n",
       "  </tbody>\n",
       "</table>\n",
       "<p>28795 rows × 4 columns</p>\n",
       "</div>"
      ],
      "text/plain": [
       "                                      title  year  \\\n",
       "0                After Dark in Central Park  1900   \n",
       "1      Boarding School Girls' Pajama Parade  1900   \n",
       "2            Buffalo Bill's Wild West Parad  1900   \n",
       "3                                    Caught  1900   \n",
       "4                      Clowns Spinning Hats  1900   \n",
       "...                                     ...   ...   \n",
       "28790                             Bumblebee  2018   \n",
       "28791                     Welcome to Marwen  2018   \n",
       "28792                     Holmes and Watson  2018   \n",
       "28793                   On the Basis of Sex  2018   \n",
       "28794                             Destroyer  2018   \n",
       "\n",
       "                                                    cast  \\\n",
       "0                                                     []   \n",
       "1                                                     []   \n",
       "2                                                     []   \n",
       "3                                                     []   \n",
       "4                                                     []   \n",
       "...                                                  ...   \n",
       "28790  [Hailee Steinfeld, John Cena, Jorge Lendeborg ...   \n",
       "28791  [Steve Carell, Leslie Mann, Diane Kruger, Falk...   \n",
       "28792  [Will Ferrell, John C. Reilly, Rebecca Hall, R...   \n",
       "28793  [Felicity Jones, Armie Hammer, Justin Theroux,...   \n",
       "28794  [Nicole Kidman, Tatiana Maslany, Sebastian Sta...   \n",
       "\n",
       "                                     genres  \n",
       "0                                        []  \n",
       "1                                        []  \n",
       "2                                        []  \n",
       "3                                        []  \n",
       "4                                        []  \n",
       "...                                     ...  \n",
       "28790  [Action, Adventure, Science Fiction]  \n",
       "28791                      [Fantasy, Drama]  \n",
       "28792             [Action, Mystery, Comedy]  \n",
       "28793                    [Biography, Drama]  \n",
       "28794                     [Crime, Thriller]  \n",
       "\n",
       "[28795 rows x 4 columns]"
      ]
     },
     "execution_count": 2,
     "metadata": {},
     "output_type": "execute_result"
    }
   ],
   "source": [
    "import pandas as pd\n",
    "df = pd.read_json('movies.json')\n",
    "df"
   ]
  },
  {
   "cell_type": "code",
   "execution_count": 4,
   "id": "8a44d1c1-ec08-4bd6-81ae-1581a8ef0b39",
   "metadata": {},
   "outputs": [
    {
     "data": {
      "text/plain": [
       "title     Clowns Spinning Hats\n",
       "year                      1900\n",
       "cast                        []\n",
       "genres                      []\n",
       "Name: 4, dtype: object"
      ]
     },
     "execution_count": 4,
     "metadata": {},
     "output_type": "execute_result"
    }
   ],
   "source": [
    "row = df.iloc[4]  \n",
    "row\n"
   ]
  },
  {
   "cell_type": "code",
   "execution_count": 5,
   "id": "f8739a37-4073-4f67-a415-9e6ecd5f0cd8",
   "metadata": {},
   "outputs": [
    {
     "name": "stdout",
     "output_type": "stream",
     "text": [
      "{'title': 'Clowns Spinning Hats', 'year': 1900, 'cast': [], 'genres': []}\n"
     ]
    }
   ],
   "source": [
    "row_dict = row.to_dict()\n",
    "print(row_dict)"
   ]
  },
  {
   "cell_type": "code",
   "execution_count": 6,
   "id": "2d261d3f-a850-4cc6-b3d1-d7e87bdea859",
   "metadata": {},
   "outputs": [
    {
     "name": "stdout",
     "output_type": "stream",
     "text": [
      "1900\n"
     ]
    }
   ],
   "source": [
    "value = row['year']\n",
    "print(value)"
   ]
  },
  {
   "cell_type": "code",
   "execution_count": null,
   "id": "c32e5f14-93e2-4075-9fd4-b0d335223585",
   "metadata": {},
   "outputs": [],
   "source": []
  }
 ],
 "metadata": {
  "kernelspec": {
   "display_name": "Python 3 (ipykernel)",
   "language": "python",
   "name": "python3"
  },
  "language_info": {
   "codemirror_mode": {
    "name": "ipython",
    "version": 3
   },
   "file_extension": ".py",
   "mimetype": "text/x-python",
   "name": "python",
   "nbconvert_exporter": "python",
   "pygments_lexer": "ipython3",
   "version": "3.12.7"
  }
 },
 "nbformat": 4,
 "nbformat_minor": 5
}
