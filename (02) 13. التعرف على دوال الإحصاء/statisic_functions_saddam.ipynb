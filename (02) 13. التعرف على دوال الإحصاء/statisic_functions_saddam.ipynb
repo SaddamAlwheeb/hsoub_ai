{
 "cells": [
  {
   "cell_type": "code",
   "execution_count": 1,
   "id": "10c35036-e25e-4c75-a6b9-cf4b5bbd4ea3",
   "metadata": {},
   "outputs": [],
   "source": [
    "import pandas as pd"
   ]
  },
  {
   "cell_type": "code",
   "execution_count": 2,
   "id": "5b11d01e-c061-4a34-ba62-f763a788f9ad",
   "metadata": {},
   "outputs": [
    {
     "name": "stdout",
     "output_type": "stream",
     "text": [
      "<class 'pandas.core.frame.DataFrame'>\n",
      "RangeIndex: 1000 entries, 0 to 999\n",
      "Data columns (total 4 columns):\n",
      " #   Column         Non-Null Count  Dtype \n",
      "---  ------         --------------  ----- \n",
      " 0   gender         1000 non-null   object\n",
      " 1   math score     1000 non-null   int64 \n",
      " 2   reading score  1000 non-null   int64 \n",
      " 3   writing score  1000 non-null   int64 \n",
      "dtypes: int64(3), object(1)\n",
      "memory usage: 31.4+ KB\n"
     ]
    }
   ],
   "source": [
    "df = pd.read_csv('Students_exams.csv')\n",
    "df.info()"
   ]
  },
  {
   "cell_type": "code",
   "execution_count": 4,
   "id": "6734d89b-ceab-47b9-8226-0047acad5408",
   "metadata": {},
   "outputs": [
    {
     "name": "stdout",
     "output_type": "stream",
     "text": [
      "count is =  1000\n"
     ]
    }
   ],
   "source": [
    "x= df['math score'].count()\n",
    "print('count is = ',x)"
   ]
  },
  {
   "cell_type": "code",
   "execution_count": 5,
   "id": "0a2ac902-bd47-47c9-8bfe-4d71925fd60e",
   "metadata": {},
   "outputs": [
    {
     "name": "stdout",
     "output_type": "stream",
     "text": [
      "mean is =  66.089\n"
     ]
    }
   ],
   "source": [
    "x= df['math score'].mean()\n",
    "print('mean is = ',x)"
   ]
  },
  {
   "cell_type": "code",
   "execution_count": 8,
   "id": "320d1ca6-3206-4e06-bb0a-2ec1ff16ec8e",
   "metadata": {},
   "outputs": [
    {
     "name": "stdout",
     "output_type": "stream",
     "text": [
      "qauntile is =  0.0\n"
     ]
    }
   ],
   "source": [
    "x= df['math score'].quantile(0.0)\n",
    "print('qauntile is = ',x)"
   ]
  },
  {
   "cell_type": "code",
   "execution_count": 9,
   "id": "93c5e042-2be3-4bdc-832c-8b5352ddbfdf",
   "metadata": {},
   "outputs": [
    {
     "name": "stdout",
     "output_type": "stream",
     "text": [
      "qauntile is =  100.0\n"
     ]
    }
   ],
   "source": [
    "x= df['math score'].quantile(1.0)\n",
    "print('qauntile is = ',x)"
   ]
  },
  {
   "cell_type": "code",
   "execution_count": 14,
   "id": "67096194-159e-41b3-83a6-af5ed0c39865",
   "metadata": {},
   "outputs": [
    {
     "name": "stdout",
     "output_type": "stream",
     "text": [
      "\n"
     ]
    }
   ],
   "source": [
    "x= df.std(numeric_only=True)\n",
    "print()"
   ]
  },
  {
   "cell_type": "code",
   "execution_count": 15,
   "id": "5a7f066b-bc55-4160-affd-c82380c9ad01",
   "metadata": {},
   "outputs": [
    {
     "name": "stdout",
     "output_type": "stream",
     "text": [
      "\n"
     ]
    }
   ],
   "source": [
    "x= df.std(numeric_only=True)\n",
    "print()"
   ]
  },
  {
   "cell_type": "code",
   "execution_count": 16,
   "id": "6af13d3d-b87c-41c2-8d22-e5b7768130d3",
   "metadata": {},
   "outputs": [
    {
     "name": "stdout",
     "output_type": "stream",
     "text": [
      "math score       15.163080\n",
      "reading score    14.600192\n",
      "writing score    15.195657\n",
      "dtype: float64\n"
     ]
    }
   ],
   "source": [
    "x= df.std(numeric_only=True)\n",
    "print(x)"
   ]
  },
  {
   "cell_type": "code",
   "execution_count": 17,
   "id": "40719da3-9edd-459f-8c68-0b8d3d859611",
   "metadata": {},
   "outputs": [
    {
     "name": "stdout",
     "output_type": "stream",
     "text": [
      "15.163080096009468\n"
     ]
    }
   ],
   "source": [
    "x= df['math score'].std()\n",
    "print(x)"
   ]
  },
  {
   "cell_type": "code",
   "execution_count": 18,
   "id": "45965383-7ea3-47ef-8b77-9aa26e7e91da",
   "metadata": {},
   "outputs": [
    {
     "name": "stdout",
     "output_type": "stream",
     "text": [
      "   gender  math score  reading score  writing score\n",
      "0  female          65             72             74\n"
     ]
    }
   ],
   "source": [
    "x= df.mode()\n",
    "print(x)"
   ]
  },
  {
   "cell_type": "code",
   "execution_count": null,
   "id": "768c610f-bd12-4aaa-9a19-5c4dc6efd645",
   "metadata": {},
   "outputs": [],
   "source": []
  }
 ],
 "metadata": {
  "kernelspec": {
   "display_name": "Python 3 (ipykernel)",
   "language": "python",
   "name": "python3"
  },
  "language_info": {
   "codemirror_mode": {
    "name": "ipython",
    "version": 3
   },
   "file_extension": ".py",
   "mimetype": "text/x-python",
   "name": "python",
   "nbconvert_exporter": "python",
   "pygments_lexer": "ipython3",
   "version": "3.12.7"
  }
 },
 "nbformat": 4,
 "nbformat_minor": 5
}
