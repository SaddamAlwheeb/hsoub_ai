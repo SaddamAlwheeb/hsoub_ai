{
 "cells": [
  {
   "cell_type": "code",
   "execution_count": 1,
   "id": "6dff4a72-dd54-458c-aa2f-25e7e11cc7e3",
   "metadata": {},
   "outputs": [
    {
     "name": "stdout",
     "output_type": "stream",
     "text": [
      "<class 'pandas.core.frame.DataFrame'>\n",
      "RangeIndex: 52 entries, 0 to 51\n",
      "Data columns (total 4 columns):\n",
      " #   Column   Non-Null Count  Dtype \n",
      "---  ------   --------------  ----- \n",
      " 0   Id       52 non-null     int64 \n",
      " 1   Gender   52 non-null     object\n",
      " 2   Country  52 non-null     object\n",
      " 3   Amount   52 non-null     int64 \n",
      "dtypes: int64(2), object(2)\n",
      "memory usage: 1.8+ KB\n"
     ]
    }
   ],
   "source": [
    "import pandas as pd\n",
    "\n",
    "df = pd.read_csv(\"Ecommerce.csv\")\n",
    "\n",
    "df.info()"
   ]
  },
  {
   "cell_type": "code",
   "execution_count": 6,
   "id": "b1b67fc6-0712-43df-8ac3-17c07d09bdf1",
   "metadata": {},
   "outputs": [
    {
     "data": {
      "text/plain": [
       "{'KSA': [0, 1, 2, 4, 5, 9, 17, 33, 37, 39, 40, 41, 42, 44, 46, 47, 49, 50, 51], 'Kuwait': [3, 6, 11, 15, 16, 18, 19, 23, 26, 30, 31, 32, 34, 35, 36, 38, 43, 48], 'UAE': [7, 8, 10, 12, 13, 14, 20, 21, 22, 24, 25, 27, 28, 29, 45]}"
      ]
     },
     "execution_count": 6,
     "metadata": {},
     "output_type": "execute_result"
    }
   ],
   "source": [
    "gc = df.groupby('Country')\n",
    "gc.groups"
   ]
  },
  {
   "cell_type": "code",
   "execution_count": 7,
   "id": "d2cf1ae8-a677-4c39-97a9-019639d3828b",
   "metadata": {},
   "outputs": [
    {
     "data": {
      "text/plain": [
       "{('KSA', 'female'): [4, 9, 37, 39, 40, 41, 42, 44, 46, 47, 49, 50, 51], ('KSA', 'male'): [0, 1, 2, 5, 17, 33], ('Kuwait', 'female'): [3, 11, 18, 35, 36, 38, 43, 48], ('Kuwait', 'male'): [6, 15, 16, 19, 23, 26, 30, 31, 32, 34], ('UAE', 'female'): [10, 12, 14, 45], ('UAE', 'male'): [7, 8, 13, 20, 21, 22, 24, 25, 27, 28, 29]}"
      ]
     },
     "execution_count": 7,
     "metadata": {},
     "output_type": "execute_result"
    }
   ],
   "source": [
    "gc = df.groupby(['Country','Gender'])\n",
    "gc.groups"
   ]
  },
  {
   "cell_type": "code",
   "execution_count": 12,
   "id": "ed05865d-e96f-477c-ae2e-f2c71606a450",
   "metadata": {},
   "outputs": [
    {
     "ename": "ValueError",
     "evalue": "must supply a tuple to get_group with multiple grouping keys",
     "output_type": "error",
     "traceback": [
      "\u001b[1;31m---------------------------------------------------------------------------\u001b[0m",
      "\u001b[1;31mValueError\u001b[0m                                Traceback (most recent call last)",
      "Cell \u001b[1;32mIn[12], line 1\u001b[0m\n\u001b[1;32m----> 1\u001b[0m gc\u001b[38;5;241m.\u001b[39mget_group(\u001b[38;5;124m'\u001b[39m\u001b[38;5;124mKSA\u001b[39m\u001b[38;5;124m'\u001b[39m)\n",
      "File \u001b[1;32mE:\\saddam\\ai\\installs\\Lib\\site-packages\\pandas\\core\\groupby\\groupby.py:1112\u001b[0m, in \u001b[0;36mBaseGroupBy.get_group\u001b[1;34m(self, name, obj)\u001b[0m\n\u001b[0;32m   1102\u001b[0m     \u001b[38;5;28;01melif\u001b[39;00m \u001b[38;5;129;01mnot\u001b[39;00m \u001b[38;5;28misinstance\u001b[39m(name, \u001b[38;5;28mtuple\u001b[39m):\n\u001b[0;32m   1103\u001b[0m         warnings\u001b[38;5;241m.\u001b[39mwarn(\n\u001b[0;32m   1104\u001b[0m             \u001b[38;5;124m\"\u001b[39m\u001b[38;5;124mWhen grouping with a length-1 list-like, \u001b[39m\u001b[38;5;124m\"\u001b[39m\n\u001b[0;32m   1105\u001b[0m             \u001b[38;5;124m\"\u001b[39m\u001b[38;5;124myou will need to pass a length-1 tuple to get_group in a future \u001b[39m\u001b[38;5;124m\"\u001b[39m\n\u001b[1;32m   (...)\u001b[0m\n\u001b[0;32m   1109\u001b[0m             stacklevel\u001b[38;5;241m=\u001b[39mfind_stack_level(),\n\u001b[0;32m   1110\u001b[0m         )\n\u001b[1;32m-> 1112\u001b[0m inds \u001b[38;5;241m=\u001b[39m \u001b[38;5;28mself\u001b[39m\u001b[38;5;241m.\u001b[39m_get_index(name)\n\u001b[0;32m   1113\u001b[0m \u001b[38;5;28;01mif\u001b[39;00m \u001b[38;5;129;01mnot\u001b[39;00m \u001b[38;5;28mlen\u001b[39m(inds):\n\u001b[0;32m   1114\u001b[0m     \u001b[38;5;28;01mraise\u001b[39;00m \u001b[38;5;167;01mKeyError\u001b[39;00m(name)\n",
      "File \u001b[1;32mE:\\saddam\\ai\\installs\\Lib\\site-packages\\pandas\\core\\groupby\\groupby.py:964\u001b[0m, in \u001b[0;36mBaseGroupBy._get_index\u001b[1;34m(self, name)\u001b[0m\n\u001b[0;32m    959\u001b[0m \u001b[38;5;129m@final\u001b[39m\n\u001b[0;32m    960\u001b[0m \u001b[38;5;28;01mdef\u001b[39;00m \u001b[38;5;21m_get_index\u001b[39m(\u001b[38;5;28mself\u001b[39m, name):\n\u001b[0;32m    961\u001b[0m \u001b[38;5;250m    \u001b[39m\u001b[38;5;124;03m\"\"\"\u001b[39;00m\n\u001b[0;32m    962\u001b[0m \u001b[38;5;124;03m    Safe get index, translate keys for datelike to underlying repr.\u001b[39;00m\n\u001b[0;32m    963\u001b[0m \u001b[38;5;124;03m    \"\"\"\u001b[39;00m\n\u001b[1;32m--> 964\u001b[0m     \u001b[38;5;28;01mreturn\u001b[39;00m \u001b[38;5;28mself\u001b[39m\u001b[38;5;241m.\u001b[39m_get_indices([name])[\u001b[38;5;241m0\u001b[39m]\n",
      "File \u001b[1;32mE:\\saddam\\ai\\installs\\Lib\\site-packages\\pandas\\core\\groupby\\groupby.py:937\u001b[0m, in \u001b[0;36mBaseGroupBy._get_indices\u001b[1;34m(self, names)\u001b[0m\n\u001b[0;32m    935\u001b[0m \u001b[38;5;28;01mif\u001b[39;00m \u001b[38;5;129;01mnot\u001b[39;00m \u001b[38;5;28misinstance\u001b[39m(name_sample, \u001b[38;5;28mtuple\u001b[39m):\n\u001b[0;32m    936\u001b[0m     msg \u001b[38;5;241m=\u001b[39m \u001b[38;5;124m\"\u001b[39m\u001b[38;5;124mmust supply a tuple to get_group with multiple grouping keys\u001b[39m\u001b[38;5;124m\"\u001b[39m\n\u001b[1;32m--> 937\u001b[0m     \u001b[38;5;28;01mraise\u001b[39;00m \u001b[38;5;167;01mValueError\u001b[39;00m(msg)\n\u001b[0;32m    938\u001b[0m \u001b[38;5;28;01mif\u001b[39;00m \u001b[38;5;129;01mnot\u001b[39;00m \u001b[38;5;28mlen\u001b[39m(name_sample) \u001b[38;5;241m==\u001b[39m \u001b[38;5;28mlen\u001b[39m(index_sample):\n\u001b[0;32m    939\u001b[0m     \u001b[38;5;28;01mtry\u001b[39;00m:\n\u001b[0;32m    940\u001b[0m         \u001b[38;5;66;03m# If the original grouper was a tuple\u001b[39;00m\n",
      "\u001b[1;31mValueError\u001b[0m: must supply a tuple to get_group with multiple grouping keys"
     ]
    }
   ],
   "source": [
    "gc.get_group('KSA')"
   ]
  },
  {
   "cell_type": "code",
   "execution_count": 13,
   "id": "b36b9915-2e38-4b99-b96b-952b79e82ca2",
   "metadata": {},
   "outputs": [
    {
     "data": {
      "text/html": [
       "<div>\n",
       "<style scoped>\n",
       "    .dataframe tbody tr th:only-of-type {\n",
       "        vertical-align: middle;\n",
       "    }\n",
       "\n",
       "    .dataframe tbody tr th {\n",
       "        vertical-align: top;\n",
       "    }\n",
       "\n",
       "    .dataframe thead th {\n",
       "        text-align: right;\n",
       "    }\n",
       "</style>\n",
       "<table border=\"1\" class=\"dataframe\">\n",
       "  <thead>\n",
       "    <tr style=\"text-align: right;\">\n",
       "      <th></th>\n",
       "      <th>Id</th>\n",
       "      <th>Gender</th>\n",
       "      <th>Country</th>\n",
       "      <th>Amount</th>\n",
       "    </tr>\n",
       "  </thead>\n",
       "  <tbody>\n",
       "    <tr>\n",
       "      <th>0</th>\n",
       "      <td>1</td>\n",
       "      <td>male</td>\n",
       "      <td>KSA</td>\n",
       "      <td>1500</td>\n",
       "    </tr>\n",
       "    <tr>\n",
       "      <th>1</th>\n",
       "      <td>2</td>\n",
       "      <td>male</td>\n",
       "      <td>KSA</td>\n",
       "      <td>2000</td>\n",
       "    </tr>\n",
       "    <tr>\n",
       "      <th>2</th>\n",
       "      <td>3</td>\n",
       "      <td>male</td>\n",
       "      <td>KSA</td>\n",
       "      <td>3000</td>\n",
       "    </tr>\n",
       "    <tr>\n",
       "      <th>4</th>\n",
       "      <td>5</td>\n",
       "      <td>female</td>\n",
       "      <td>KSA</td>\n",
       "      <td>1000</td>\n",
       "    </tr>\n",
       "    <tr>\n",
       "      <th>5</th>\n",
       "      <td>6</td>\n",
       "      <td>male</td>\n",
       "      <td>KSA</td>\n",
       "      <td>1500</td>\n",
       "    </tr>\n",
       "    <tr>\n",
       "      <th>9</th>\n",
       "      <td>10</td>\n",
       "      <td>female</td>\n",
       "      <td>KSA</td>\n",
       "      <td>1000</td>\n",
       "    </tr>\n",
       "    <tr>\n",
       "      <th>17</th>\n",
       "      <td>18</td>\n",
       "      <td>male</td>\n",
       "      <td>KSA</td>\n",
       "      <td>3000</td>\n",
       "    </tr>\n",
       "    <tr>\n",
       "      <th>33</th>\n",
       "      <td>34</td>\n",
       "      <td>male</td>\n",
       "      <td>KSA</td>\n",
       "      <td>2000</td>\n",
       "    </tr>\n",
       "    <tr>\n",
       "      <th>37</th>\n",
       "      <td>38</td>\n",
       "      <td>female</td>\n",
       "      <td>KSA</td>\n",
       "      <td>1000</td>\n",
       "    </tr>\n",
       "    <tr>\n",
       "      <th>39</th>\n",
       "      <td>40</td>\n",
       "      <td>female</td>\n",
       "      <td>KSA</td>\n",
       "      <td>1500</td>\n",
       "    </tr>\n",
       "    <tr>\n",
       "      <th>40</th>\n",
       "      <td>41</td>\n",
       "      <td>female</td>\n",
       "      <td>KSA</td>\n",
       "      <td>2000</td>\n",
       "    </tr>\n",
       "    <tr>\n",
       "      <th>41</th>\n",
       "      <td>42</td>\n",
       "      <td>female</td>\n",
       "      <td>KSA</td>\n",
       "      <td>1000</td>\n",
       "    </tr>\n",
       "    <tr>\n",
       "      <th>42</th>\n",
       "      <td>43</td>\n",
       "      <td>female</td>\n",
       "      <td>KSA</td>\n",
       "      <td>1500</td>\n",
       "    </tr>\n",
       "    <tr>\n",
       "      <th>44</th>\n",
       "      <td>45</td>\n",
       "      <td>female</td>\n",
       "      <td>KSA</td>\n",
       "      <td>3000</td>\n",
       "    </tr>\n",
       "    <tr>\n",
       "      <th>46</th>\n",
       "      <td>47</td>\n",
       "      <td>female</td>\n",
       "      <td>KSA</td>\n",
       "      <td>1000</td>\n",
       "    </tr>\n",
       "    <tr>\n",
       "      <th>47</th>\n",
       "      <td>48</td>\n",
       "      <td>female</td>\n",
       "      <td>KSA</td>\n",
       "      <td>1500</td>\n",
       "    </tr>\n",
       "    <tr>\n",
       "      <th>49</th>\n",
       "      <td>50</td>\n",
       "      <td>female</td>\n",
       "      <td>KSA</td>\n",
       "      <td>3000</td>\n",
       "    </tr>\n",
       "    <tr>\n",
       "      <th>50</th>\n",
       "      <td>51</td>\n",
       "      <td>female</td>\n",
       "      <td>KSA</td>\n",
       "      <td>1500</td>\n",
       "    </tr>\n",
       "    <tr>\n",
       "      <th>51</th>\n",
       "      <td>52</td>\n",
       "      <td>female</td>\n",
       "      <td>KSA</td>\n",
       "      <td>2000</td>\n",
       "    </tr>\n",
       "  </tbody>\n",
       "</table>\n",
       "</div>"
      ],
      "text/plain": [
       "    Id  Gender Country  Amount\n",
       "0    1    male     KSA    1500\n",
       "1    2    male     KSA    2000\n",
       "2    3    male     KSA    3000\n",
       "4    5  female     KSA    1000\n",
       "5    6    male     KSA    1500\n",
       "9   10  female     KSA    1000\n",
       "17  18    male     KSA    3000\n",
       "33  34    male     KSA    2000\n",
       "37  38  female     KSA    1000\n",
       "39  40  female     KSA    1500\n",
       "40  41  female     KSA    2000\n",
       "41  42  female     KSA    1000\n",
       "42  43  female     KSA    1500\n",
       "44  45  female     KSA    3000\n",
       "46  47  female     KSA    1000\n",
       "47  48  female     KSA    1500\n",
       "49  50  female     KSA    3000\n",
       "50  51  female     KSA    1500\n",
       "51  52  female     KSA    2000"
      ]
     },
     "execution_count": 13,
     "metadata": {},
     "output_type": "execute_result"
    }
   ],
   "source": [
    "gc = df.groupby('Country')\n",
    "# gc.groups\n",
    "gc.get_group('KSA')"
   ]
  },
  {
   "cell_type": "code",
   "execution_count": null,
   "id": "5fab9e9f-bde9-4159-b1b3-15be9dcf5f3b",
   "metadata": {},
   "outputs": [],
   "source": []
  },
  {
   "cell_type": "code",
   "execution_count": 17,
   "id": "ce2875c8-18e5-4b05-a504-292509932052",
   "metadata": {},
   "outputs": [
    {
     "data": {
      "text/plain": [
       "Country\n",
       "KSA       19\n",
       "Kuwait    18\n",
       "UAE       15\n",
       "Name: Id, dtype: int64"
      ]
     },
     "execution_count": 17,
     "metadata": {},
     "output_type": "execute_result"
    }
   ],
   "source": [
    "gc = df.groupby(['Country'])['Id'].count()\n",
    "gc"
   ]
  },
  {
   "cell_type": "code",
   "execution_count": 18,
   "id": "d8ca7208-f07f-4aa7-90a3-15c0d959e1f1",
   "metadata": {},
   "outputs": [
    {
     "data": {
      "text/plain": [
       "Country  Gender\n",
       "KSA      female    13\n",
       "         male       6\n",
       "Kuwait   female     8\n",
       "         male      10\n",
       "UAE      female     4\n",
       "         male      11\n",
       "Name: Id, dtype: int64"
      ]
     },
     "execution_count": 18,
     "metadata": {},
     "output_type": "execute_result"
    }
   ],
   "source": [
    "gc = df.groupby(['Country','Gender'])['Id'].count()\n",
    "gc"
   ]
  },
  {
   "cell_type": "code",
   "execution_count": 19,
   "id": "d112ff6a-40a9-4fc3-a6b8-8afc3a8cc8e0",
   "metadata": {},
   "outputs": [
    {
     "data": {
      "text/plain": [
       "Country  Gender\n",
       "KSA      female    39.384615\n",
       "         male      10.666667\n",
       "Kuwait   female    30.000000\n",
       "         male      24.200000\n",
       "UAE      female    21.250000\n",
       "         male      21.363636\n",
       "Name: Id, dtype: float64"
      ]
     },
     "execution_count": 19,
     "metadata": {},
     "output_type": "execute_result"
    }
   ],
   "source": [
    "gc = df.groupby(['Country','Gender'])['Id'].mean()\n",
    "gc"
   ]
  },
  {
   "cell_type": "code",
   "execution_count": 21,
   "id": "ccc9cabd-456a-4715-8576-c17ffd2a991b",
   "metadata": {},
   "outputs": [
    {
     "data": {
      "text/html": [
       "<div>\n",
       "<style scoped>\n",
       "    .dataframe tbody tr th:only-of-type {\n",
       "        vertical-align: middle;\n",
       "    }\n",
       "\n",
       "    .dataframe tbody tr th {\n",
       "        vertical-align: top;\n",
       "    }\n",
       "\n",
       "    .dataframe thead th {\n",
       "        text-align: right;\n",
       "    }\n",
       "</style>\n",
       "<table border=\"1\" class=\"dataframe\">\n",
       "  <thead>\n",
       "    <tr style=\"text-align: right;\">\n",
       "      <th></th>\n",
       "      <th>Mean_coumn</th>\n",
       "      <th>Mean_std</th>\n",
       "      <th>Mean_sum</th>\n",
       "    </tr>\n",
       "    <tr>\n",
       "      <th>Country</th>\n",
       "      <th></th>\n",
       "      <th></th>\n",
       "      <th></th>\n",
       "    </tr>\n",
       "  </thead>\n",
       "  <tbody>\n",
       "    <tr>\n",
       "      <th>KSA</th>\n",
       "      <td>1789.473684</td>\n",
       "      <td>732.495534</td>\n",
       "      <td>34000</td>\n",
       "    </tr>\n",
       "    <tr>\n",
       "      <th>Kuwait</th>\n",
       "      <td>1666.666667</td>\n",
       "      <td>542.326145</td>\n",
       "      <td>30000</td>\n",
       "    </tr>\n",
       "    <tr>\n",
       "      <th>UAE</th>\n",
       "      <td>2033.333333</td>\n",
       "      <td>789.816133</td>\n",
       "      <td>30500</td>\n",
       "    </tr>\n",
       "  </tbody>\n",
       "</table>\n",
       "</div>"
      ],
      "text/plain": [
       "          Mean_coumn    Mean_std  Mean_sum\n",
       "Country                                   \n",
       "KSA      1789.473684  732.495534     34000\n",
       "Kuwait   1666.666667  542.326145     30000\n",
       "UAE      2033.333333  789.816133     30500"
      ]
     },
     "execution_count": 21,
     "metadata": {},
     "output_type": "execute_result"
    }
   ],
   "source": [
    "gc = df.groupby(['Country']).agg(Mean_coumn =('Amount','mean'),Mean_std =('Amount','std'),Mean_sum =('Amount','sum'))\n",
    "gc"
   ]
  },
  {
   "cell_type": "code",
   "execution_count": 26,
   "id": "edb53f7c-d16d-468a-9807-10e90bbdaab8",
   "metadata": {},
   "outputs": [
    {
     "data": {
      "text/html": [
       "<div>\n",
       "<style scoped>\n",
       "    .dataframe tbody tr th:only-of-type {\n",
       "        vertical-align: middle;\n",
       "    }\n",
       "\n",
       "    .dataframe tbody tr th {\n",
       "        vertical-align: top;\n",
       "    }\n",
       "\n",
       "    .dataframe thead th {\n",
       "        text-align: right;\n",
       "    }\n",
       "</style>\n",
       "<table border=\"1\" class=\"dataframe\">\n",
       "  <thead>\n",
       "    <tr style=\"text-align: right;\">\n",
       "      <th></th>\n",
       "      <th>Mean_coumn</th>\n",
       "      <th>Mean_std</th>\n",
       "      <th>Mean_sum</th>\n",
       "    </tr>\n",
       "    <tr>\n",
       "      <th>Country</th>\n",
       "      <th></th>\n",
       "      <th></th>\n",
       "      <th></th>\n",
       "    </tr>\n",
       "  </thead>\n",
       "  <tbody>\n",
       "    <tr>\n",
       "      <th>Kuwait</th>\n",
       "      <td>1666.666667</td>\n",
       "      <td>542.326145</td>\n",
       "      <td>30000</td>\n",
       "    </tr>\n",
       "    <tr>\n",
       "      <th>UAE</th>\n",
       "      <td>2033.333333</td>\n",
       "      <td>789.816133</td>\n",
       "      <td>30500</td>\n",
       "    </tr>\n",
       "    <tr>\n",
       "      <th>KSA</th>\n",
       "      <td>1789.473684</td>\n",
       "      <td>732.495534</td>\n",
       "      <td>34000</td>\n",
       "    </tr>\n",
       "  </tbody>\n",
       "</table>\n",
       "</div>"
      ],
      "text/plain": [
       "          Mean_coumn    Mean_std  Mean_sum\n",
       "Country                                   \n",
       "Kuwait   1666.666667  542.326145     30000\n",
       "UAE      2033.333333  789.816133     30500\n",
       "KSA      1789.473684  732.495534     34000"
      ]
     },
     "execution_count": 26,
     "metadata": {},
     "output_type": "execute_result"
    }
   ],
   "source": [
    "gc=gc.sort_values('Mean_sum',ascending=True)\n",
    "gc"
   ]
  },
  {
   "cell_type": "code",
   "execution_count": null,
   "id": "f7371607-3d10-4789-bd13-30b6ebecfac9",
   "metadata": {},
   "outputs": [],
   "source": []
  }
 ],
 "metadata": {
  "kernelspec": {
   "display_name": "Python 3 (ipykernel)",
   "language": "python",
   "name": "python3"
  },
  "language_info": {
   "codemirror_mode": {
    "name": "ipython",
    "version": 3
   },
   "file_extension": ".py",
   "mimetype": "text/x-python",
   "name": "python",
   "nbconvert_exporter": "python",
   "pygments_lexer": "ipython3",
   "version": "3.12.7"
  }
 },
 "nbformat": 4,
 "nbformat_minor": 5
}
